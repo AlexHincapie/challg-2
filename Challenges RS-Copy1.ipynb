{
 "cells": [
  {
   "cell_type": "code",
   "execution_count": 188,
   "metadata": {},
   "outputs": [],
   "source": [
    "import numpy as np\n",
    "import pandas as pd\n",
    "import matplotlib.pyplot as plt\n",
    "import os\n",
    "import seaborn as sns\n",
    "\n",
    "import scipy.cluster.hierarchy as sch\n",
    "from scipy.linalg import lu_factor\n",
    "from sklearn import preprocessing\n",
    "from sklearn.feature_extraction.text import CountVectorizer\n",
    "from sklearn.metrics.pairwise import cosine_similarity\n",
    "\n",
    "%matplotlib inline"
   ]
  },
  {
   "cell_type": "markdown",
   "metadata": {},
   "source": [
    "#The import of the dynamic counters database is carried out (in this case it is an excel test of an updatable file with random values, this is a good comparative test with a server.It can also be .csv as_csv)"
   ]
  },
  {
   "cell_type": "code",
   "execution_count": 42,
   "metadata": {},
   "outputs": [],
   "source": [
    "df_Challenges = pd.read_excel(\"C:/Users/steff/OneDrive/Documents/Python Scripts/ChLL CSV dinamic proff.xlsx\")"
   ]
  },
  {
   "cell_type": "code",
   "execution_count": 37,
   "metadata": {},
   "outputs": [
    {
     "name": "stdout",
     "output_type": "stream",
     "text": [
      "<class 'pandas.core.frame.DataFrame'>\n",
      "RangeIndex: 99 entries, 0 to 98\n",
      "Columns: 101 entries, User_ID to Ch_100\n",
      "dtypes: int64(100), object(1)\n",
      "memory usage: 78.2+ KB\n"
     ]
    }
   ],
   "source": [
    "df_Challenges.info()"
   ]
  },
  {
   "cell_type": "markdown",
   "metadata": {},
   "source": [
    "#Then it is converted to a vector data matrix"
   ]
  },
  {
   "cell_type": "markdown",
   "metadata": {},
   "source": [
    "#Remember that in total we must have a dataframe with 6 matrices (of reports and counters) for each interaction. (m1,m2,m3,m4,m5,m6,)"
   ]
  },
  {
   "cell_type": "markdown",
   "metadata": {},
   "source": [
    "Matrix type 1\n",
    "        \n",
    "        Only \"Parameter_Report\"\n",
    "        \n",
    "#(the matrix will have values ​​between(1 or 0). Integer binary matrix\n",
    "\n",
    "Matrix type 2\n",
    "\n",
    "        and for \"Parameter_Report_counter\" \n",
    "          \n",
    "#(the matrix will have values can be more than 1). Integer type array"
   ]
  },
  {
   "cell_type": "markdown",
   "metadata": {},
   "source": [
    "### Step_1 \n",
    "// a. Create the 6 arrays in the App Challenges database for (SQLite, ORM, MySQL) a dataframe divided into 6 arrays is created as follows:"
   ]
  },
  {
   "cell_type": "markdown",
   "metadata": {},
   "source": [
    "\n",
    "    m1= [\"User_ID\", \"ChallengeID, \"Reviews_counter\"]:\n",
    "    m2= [\"User_ID\", \"ChallengeID, \"Comments_counter_report\"]:\n",
    "    m3= [\"User_ID\", \"ChallengeID, \"Follow_Report\"]:\n",
    "    m4= [\"User_ID\", \"ChallengeID, \"Share_report_counter\"]:\n",
    "    m5= [\"User_ID\", \"ChallengeID, \"Accept_report\"]:\n",
    "    m6= [\"User_ID\", \"ChallengeID, \"Test video_report\"]:"
   ]
  },
  {
   "cell_type": "markdown",
   "metadata": {},
   "source": [
    "// b. Also create the publication time dataframe: an integer array with only two columns"
   ]
  },
  {
   "cell_type": "markdown",
   "metadata": {},
   "source": [
    "    df_time = [ChallengeID, \"Days_ago_counter\"]"
   ]
  },
  {
   "cell_type": "markdown",
   "metadata": {},
   "source": [
    "### Step_2\n",
    "\n",
    "// Create a dynamic matrix auto-update total interactions: df_Challenges. "
   ]
  },
  {
   "cell_type": "markdown",
   "metadata": {},
   "source": [
    "      df_Challenges = [m1+m2+m3+m4+m5+m6] "
   ]
  },
  {
   "cell_type": "markdown",
   "metadata": {},
   "source": [
    "\n",
    "//In python the following steps must be followed so that the length of the matrix is updated in new users and new challenges.\n"
   ]
  },
  {
   "cell_type": "markdown",
   "metadata": {},
   "source": []
  },
  {
   "cell_type": "markdown",
   "metadata": {},
   "source": [
    "//a. A \"matrix 0\" must be created with the same updateable dimensions as the interaction matrices.\n",
    "\n",
    "    def sum_Challenges(m1,m2,m3,m4,m5,m6)\n",
    "\n",
    "        if len(m1) == len(m2) == len(m3) == len(m4) == len(m5) == len(m6)\n",
    "        \n",
    "        df_Challenges=[]\n",
    "        \n",
    "            for i in rangue (len(m1):\n",
    "                df_Challenges.append([])\n",
    "                for j in range(len(m1[0])\n",
    "                    df_Challenges[i].append(0)\n",
    " \n",
    " //b. We add the matrices by replacing each value in the dynamic matrix 0 in\n",
    " \n",
    "            for i in rangue(len(df_Challenges):\n",
    "                for j in range(len(df_Challenges[0])\n",
    "                    df_Challenges[i][j] = m1[i][j] + m2[i][j]  + m3[i][j] + m4[i][j]+ m5[i][j] + m6[i][j]\n",
    "     \n",
    " //c. With each update we return the values, we return the values ​​and we close the first addition program.\n",
    "            \n",
    "            return df_Challenges\n",
    "        else:\n",
    "            return None\n",
    "                  \n",
    "    df_Challenges = sum_Challenges(m1,m2,m3,m4,m5,m6)\n",
    "    \n",
    "    if df_Challenges == None:\n",
    "        print(\"Not updated\")\n",
    "    else:\n",
    "        for row in df_Challenges:\n",
    "        print(\"[\", end=\" \")\n",
    "        for element in row:\n",
    "            print(element, end= \"\")\n",
    "        print(\"]\")\n",
    "                   \n",
    "\n",
    "#Each of the matrices corresponds to a type of interaction. In this way, each algorithm will have separate vectors and counters that will later be used."
   ]
  },
  {
   "cell_type": "markdown",
   "metadata": {},
   "source": [
    "### Step_3. \n",
    "\n",
    " //We print and then Normalize the matrix df_Challenges. \n",
    " //Normalize is to convert each entry of the matrix into a decimal number between -1 to 1 or between 0 to 1.."
   ]
  },
  {
   "cell_type": "code",
   "execution_count": 52,
   "metadata": {
    "scrolled": true
   },
   "outputs": [
    {
     "name": "stdout",
     "output_type": "stream",
     "text": [
      "   User_ID  Ch_1  Ch_2  Ch_3  Ch_4  Ch_5  Ch_6  Ch_7  Ch_8  Ch_9  ...  Ch_91  \\\n",
      "0     Us_1     2     1     4     2     5     4     3     5     1  ...      4   \n",
      "1     Us_2     0     3     1     4     0     5     5     0     2  ...      4   \n",
      "2     Us_3     0     1     0     4     3     4     2     1     0  ...      2   \n",
      "3     Us_4     1     2     4     0     0     3     2     5     4  ...      3   \n",
      "4     Us_5     5     3     2     3     0     4     1     2     1  ...      5   \n",
      "5     Us_6     3     3     5     2     2     2     2     1     4  ...      1   \n",
      "6     Us_7     5     0     5     1     3     0     1     0     5  ...      4   \n",
      "7     Us_8     2     5     1     0     5     1     5     4     0  ...      4   \n",
      "8     Us_9     2     2     3     1     1     1     4     5     0  ...      1   \n",
      "9    Us_10     4     0     4     1     4     2     1     5     4  ...      0   \n",
      "10   Us_11     1     5     5     4     4     4     5     1     1  ...      2   \n",
      "11   Us_12     3     5     1     1     4     1     1     0     5  ...      0   \n",
      "12   Us_13     4     4     3     1     0     4     2     2     4  ...      5   \n",
      "13   Us_14     2     1     5     5     2     4     3     3     4  ...      0   \n",
      "14   Us_15     2     5     0     4     4     2     5     0     2  ...      2   \n",
      "15   Us_16     3     0     4     4     1     4     5     2     1  ...      3   \n",
      "16   Us_17     4     5     2     4     4     1     0     4     2  ...      3   \n",
      "17   Us_18     2     1     2     3     0     3     5     1     1  ...      4   \n",
      "18   Us_19     0     5     0     5     2     0     3     4     3  ...      4   \n",
      "19   Us_20     2     0     3     2     5     3     5     4     0  ...      5   \n",
      "20   Us_21     0     3     1     0     4     0     3     1     2  ...      2   \n",
      "21   Us_22     4     1     5     2     4     1     5     0     4  ...      2   \n",
      "22   Us_23     3     1     2     4     0     3     2     3     0  ...      1   \n",
      "23   Us_24     5     1     0     0     4     5     4     3     3  ...      1   \n",
      "24   Us_25     4     3     0     2     4     2     4     0     5  ...      4   \n",
      "\n",
      "    Ch_92  Ch_93  Ch_94  Ch_95  Ch_96  Ch_97  Ch_98  Ch_99  Ch_100  \n",
      "0       5      0      4      2      3      2      5      5       1  \n",
      "1       5      2      0      3      5      5      2      4       4  \n",
      "2       5      0      2      3      1      2      2      0       3  \n",
      "3       3      0      5      3      5      1      2      0       5  \n",
      "4       3      1      2      5      5      1      4      0       4  \n",
      "5       4      3      4      5      2      3      4      3       3  \n",
      "6       5      4      2      5      4      3      5      5       5  \n",
      "7       5      0      4      3      1      1      3      2       3  \n",
      "8       0      2      5      5      0      1      1      4       5  \n",
      "9       2      0      5      1      1      1      2      0       2  \n",
      "10      1      5      0      5      4      2      3      5       5  \n",
      "11      4      4      5      4      3      2      4      0       0  \n",
      "12      1      4      2      4      2      3      2      1       5  \n",
      "13      4      5      3      0      1      0      3      5       2  \n",
      "14      5      2      5      2      4      2      0      2       3  \n",
      "15      0      2      5      5      1      3      2      4       4  \n",
      "16      2      1      3      2      0      2      2      0       3  \n",
      "17      3      4      3      5      2      2      5      0       1  \n",
      "18      3      5      3      2      1      0      5      4       5  \n",
      "19      2      1      3      2      2      1      1      2       5  \n",
      "20      3      3      1      4      3      1      4      5       4  \n",
      "21      5      0      3      1      4      1      2      4       4  \n",
      "22      1      5      0      4      2      4      2      1       5  \n",
      "23      4      0      1      4      5      2      5      2       4  \n",
      "24      2      0      3      1      4      1      2      1       5  \n",
      "\n",
      "[25 rows x 101 columns]\n"
     ]
    }
   ],
   "source": [
    "print(df_Challenges.head(25))"
   ]
  },
  {
   "cell_type": "markdown",
   "metadata": {},
   "source": [
    "### Step 4\n",
    "\n",
    "//To be able to statistically normalize.\n",
    "\n",
    "//a: We convert the dataframe of total interactions df_Challenge into a numeric matrix of vectors. With the df.to_numpy function."
   ]
  },
  {
   "cell_type": "code",
   "execution_count": 45,
   "metadata": {},
   "outputs": [],
   "source": [
    "m7 = df_Challenges.to_numpy()"
   ]
  },
  {
   "cell_type": "code",
   "execution_count": 46,
   "metadata": {},
   "outputs": [
    {
     "data": {
      "text/plain": [
       "array([['Us_1', 2, 1, ..., 5, 5, 1],\n",
       "       ['Us_2', 0, 3, ..., 2, 4, 4],\n",
       "       ['Us_3', 0, 1, ..., 2, 0, 3],\n",
       "       ...,\n",
       "       ['Us_97', 4, 3, ..., 4, 1, 0],\n",
       "       ['Us_98', 1, 5, ..., 5, 5, 5],\n",
       "       ['Us_99', 1, 4, ..., 4, 0, 2]], dtype=object)"
      ]
     },
     "execution_count": 46,
     "metadata": {},
     "output_type": "execute_result"
    }
   ],
   "source": [
    "m7"
   ]
  },
  {
   "cell_type": "markdown",
   "metadata": {},
   "source": [
    "//b Luego tomamos el promedio de cada desafío, de la matriz de interacciones principales."
   ]
  },
  {
   "cell_type": "code",
   "execution_count": 169,
   "metadata": {},
   "outputs": [
    {
     "data": {
      "text/plain": [
       "Ch_1      2.333333\n",
       "Ch_2      2.424242\n",
       "Ch_3      2.272727\n",
       "Ch_4      2.323232\n",
       "Ch_5      2.505051\n",
       "            ...   \n",
       "Ch_96     2.343434\n",
       "Ch_97     2.383838\n",
       "Ch_98     2.696970\n",
       "Ch_99     2.606061\n",
       "Ch_100    3.000000\n",
       "Length: 100, dtype: float64"
      ]
     },
     "execution_count": 169,
     "metadata": {},
     "output_type": "execute_result"
    }
   ],
   "source": [
    "df_Challenges.mean()"
   ]
  },
  {
   "cell_type": "markdown",
   "metadata": {},
   "source": [
    "// c Normalizamos usando el promedio "
   ]
  },
  {
   "cell_type": "code",
   "execution_count": null,
   "metadata": {},
   "outputs": [],
   "source": [
    "def normalize(df_Challenges):\n",
    "    result = df_Challenges.copy()\n",
    "    for feature_name in df_Challenges.columns:\n",
    "        max_value = df_Challenges[feature_name].max()\n",
    "        min_value = df_Challenges[feature_name].min()\n",
    "        result[feature_name] = (df_Challenges[feature_name] - min_value) / (max_value - min_value)\n",
    "    return result"
   ]
  },
  {
   "cell_type": "code",
   "execution_count": 180,
   "metadata": {},
   "outputs": [
    {
     "data": {
      "text/html": [
       "<div>\n",
       "<style scoped>\n",
       "    .dataframe tbody tr th:only-of-type {\n",
       "        vertical-align: middle;\n",
       "    }\n",
       "\n",
       "    .dataframe tbody tr th {\n",
       "        vertical-align: top;\n",
       "    }\n",
       "\n",
       "    .dataframe thead th {\n",
       "        text-align: right;\n",
       "    }\n",
       "</style>\n",
       "<table border=\"1\" class=\"dataframe\">\n",
       "  <thead>\n",
       "    <tr style=\"text-align: right;\">\n",
       "      <th></th>\n",
       "      <th>User_ID</th>\n",
       "      <th>Ch_1</th>\n",
       "      <th>Ch_2</th>\n",
       "      <th>Ch_3</th>\n",
       "      <th>Ch_4</th>\n",
       "      <th>Ch_5</th>\n",
       "      <th>Ch_6</th>\n",
       "      <th>Ch_7</th>\n",
       "      <th>Ch_8</th>\n",
       "      <th>Ch_9</th>\n",
       "      <th>...</th>\n",
       "      <th>Ch_91</th>\n",
       "      <th>Ch_92</th>\n",
       "      <th>Ch_93</th>\n",
       "      <th>Ch_94</th>\n",
       "      <th>Ch_95</th>\n",
       "      <th>Ch_96</th>\n",
       "      <th>Ch_97</th>\n",
       "      <th>Ch_98</th>\n",
       "      <th>Ch_99</th>\n",
       "      <th>Ch_100</th>\n",
       "    </tr>\n",
       "  </thead>\n",
       "  <tbody>\n",
       "    <tr>\n",
       "      <th>0</th>\n",
       "      <td>Us_1</td>\n",
       "      <td>2</td>\n",
       "      <td>1</td>\n",
       "      <td>4</td>\n",
       "      <td>2</td>\n",
       "      <td>5</td>\n",
       "      <td>4</td>\n",
       "      <td>3</td>\n",
       "      <td>5</td>\n",
       "      <td>1</td>\n",
       "      <td>...</td>\n",
       "      <td>4</td>\n",
       "      <td>5</td>\n",
       "      <td>0</td>\n",
       "      <td>4</td>\n",
       "      <td>2</td>\n",
       "      <td>3</td>\n",
       "      <td>2</td>\n",
       "      <td>5</td>\n",
       "      <td>5</td>\n",
       "      <td>1</td>\n",
       "    </tr>\n",
       "    <tr>\n",
       "      <th>1</th>\n",
       "      <td>Us_2</td>\n",
       "      <td>0</td>\n",
       "      <td>3</td>\n",
       "      <td>1</td>\n",
       "      <td>4</td>\n",
       "      <td>0</td>\n",
       "      <td>5</td>\n",
       "      <td>5</td>\n",
       "      <td>0</td>\n",
       "      <td>2</td>\n",
       "      <td>...</td>\n",
       "      <td>4</td>\n",
       "      <td>5</td>\n",
       "      <td>2</td>\n",
       "      <td>0</td>\n",
       "      <td>3</td>\n",
       "      <td>5</td>\n",
       "      <td>5</td>\n",
       "      <td>2</td>\n",
       "      <td>4</td>\n",
       "      <td>4</td>\n",
       "    </tr>\n",
       "    <tr>\n",
       "      <th>2</th>\n",
       "      <td>Us_3</td>\n",
       "      <td>0</td>\n",
       "      <td>1</td>\n",
       "      <td>0</td>\n",
       "      <td>4</td>\n",
       "      <td>3</td>\n",
       "      <td>4</td>\n",
       "      <td>2</td>\n",
       "      <td>1</td>\n",
       "      <td>0</td>\n",
       "      <td>...</td>\n",
       "      <td>2</td>\n",
       "      <td>5</td>\n",
       "      <td>0</td>\n",
       "      <td>2</td>\n",
       "      <td>3</td>\n",
       "      <td>1</td>\n",
       "      <td>2</td>\n",
       "      <td>2</td>\n",
       "      <td>0</td>\n",
       "      <td>3</td>\n",
       "    </tr>\n",
       "    <tr>\n",
       "      <th>3</th>\n",
       "      <td>Us_4</td>\n",
       "      <td>1</td>\n",
       "      <td>2</td>\n",
       "      <td>4</td>\n",
       "      <td>0</td>\n",
       "      <td>0</td>\n",
       "      <td>3</td>\n",
       "      <td>2</td>\n",
       "      <td>5</td>\n",
       "      <td>4</td>\n",
       "      <td>...</td>\n",
       "      <td>3</td>\n",
       "      <td>3</td>\n",
       "      <td>0</td>\n",
       "      <td>5</td>\n",
       "      <td>3</td>\n",
       "      <td>5</td>\n",
       "      <td>1</td>\n",
       "      <td>2</td>\n",
       "      <td>0</td>\n",
       "      <td>5</td>\n",
       "    </tr>\n",
       "    <tr>\n",
       "      <th>4</th>\n",
       "      <td>Us_5</td>\n",
       "      <td>5</td>\n",
       "      <td>3</td>\n",
       "      <td>2</td>\n",
       "      <td>3</td>\n",
       "      <td>0</td>\n",
       "      <td>4</td>\n",
       "      <td>1</td>\n",
       "      <td>2</td>\n",
       "      <td>1</td>\n",
       "      <td>...</td>\n",
       "      <td>5</td>\n",
       "      <td>3</td>\n",
       "      <td>1</td>\n",
       "      <td>2</td>\n",
       "      <td>5</td>\n",
       "      <td>5</td>\n",
       "      <td>1</td>\n",
       "      <td>4</td>\n",
       "      <td>0</td>\n",
       "      <td>4</td>\n",
       "    </tr>\n",
       "    <tr>\n",
       "      <th>...</th>\n",
       "      <td>...</td>\n",
       "      <td>...</td>\n",
       "      <td>...</td>\n",
       "      <td>...</td>\n",
       "      <td>...</td>\n",
       "      <td>...</td>\n",
       "      <td>...</td>\n",
       "      <td>...</td>\n",
       "      <td>...</td>\n",
       "      <td>...</td>\n",
       "      <td>...</td>\n",
       "      <td>...</td>\n",
       "      <td>...</td>\n",
       "      <td>...</td>\n",
       "      <td>...</td>\n",
       "      <td>...</td>\n",
       "      <td>...</td>\n",
       "      <td>...</td>\n",
       "      <td>...</td>\n",
       "      <td>...</td>\n",
       "      <td>...</td>\n",
       "    </tr>\n",
       "    <tr>\n",
       "      <th>94</th>\n",
       "      <td>Us_95</td>\n",
       "      <td>0</td>\n",
       "      <td>4</td>\n",
       "      <td>5</td>\n",
       "      <td>2</td>\n",
       "      <td>0</td>\n",
       "      <td>5</td>\n",
       "      <td>0</td>\n",
       "      <td>5</td>\n",
       "      <td>1</td>\n",
       "      <td>...</td>\n",
       "      <td>0</td>\n",
       "      <td>3</td>\n",
       "      <td>1</td>\n",
       "      <td>0</td>\n",
       "      <td>4</td>\n",
       "      <td>1</td>\n",
       "      <td>5</td>\n",
       "      <td>4</td>\n",
       "      <td>0</td>\n",
       "      <td>4</td>\n",
       "    </tr>\n",
       "    <tr>\n",
       "      <th>95</th>\n",
       "      <td>Us_96</td>\n",
       "      <td>0</td>\n",
       "      <td>5</td>\n",
       "      <td>2</td>\n",
       "      <td>4</td>\n",
       "      <td>5</td>\n",
       "      <td>3</td>\n",
       "      <td>3</td>\n",
       "      <td>1</td>\n",
       "      <td>3</td>\n",
       "      <td>...</td>\n",
       "      <td>2</td>\n",
       "      <td>0</td>\n",
       "      <td>2</td>\n",
       "      <td>2</td>\n",
       "      <td>1</td>\n",
       "      <td>1</td>\n",
       "      <td>2</td>\n",
       "      <td>4</td>\n",
       "      <td>2</td>\n",
       "      <td>0</td>\n",
       "    </tr>\n",
       "    <tr>\n",
       "      <th>96</th>\n",
       "      <td>Us_97</td>\n",
       "      <td>4</td>\n",
       "      <td>3</td>\n",
       "      <td>0</td>\n",
       "      <td>5</td>\n",
       "      <td>2</td>\n",
       "      <td>0</td>\n",
       "      <td>2</td>\n",
       "      <td>0</td>\n",
       "      <td>5</td>\n",
       "      <td>...</td>\n",
       "      <td>0</td>\n",
       "      <td>0</td>\n",
       "      <td>1</td>\n",
       "      <td>4</td>\n",
       "      <td>2</td>\n",
       "      <td>2</td>\n",
       "      <td>3</td>\n",
       "      <td>4</td>\n",
       "      <td>1</td>\n",
       "      <td>0</td>\n",
       "    </tr>\n",
       "    <tr>\n",
       "      <th>97</th>\n",
       "      <td>Us_98</td>\n",
       "      <td>1</td>\n",
       "      <td>5</td>\n",
       "      <td>3</td>\n",
       "      <td>0</td>\n",
       "      <td>0</td>\n",
       "      <td>2</td>\n",
       "      <td>4</td>\n",
       "      <td>1</td>\n",
       "      <td>4</td>\n",
       "      <td>...</td>\n",
       "      <td>4</td>\n",
       "      <td>0</td>\n",
       "      <td>0</td>\n",
       "      <td>3</td>\n",
       "      <td>0</td>\n",
       "      <td>2</td>\n",
       "      <td>3</td>\n",
       "      <td>5</td>\n",
       "      <td>5</td>\n",
       "      <td>5</td>\n",
       "    </tr>\n",
       "    <tr>\n",
       "      <th>98</th>\n",
       "      <td>Us_99</td>\n",
       "      <td>1</td>\n",
       "      <td>4</td>\n",
       "      <td>5</td>\n",
       "      <td>5</td>\n",
       "      <td>5</td>\n",
       "      <td>2</td>\n",
       "      <td>5</td>\n",
       "      <td>5</td>\n",
       "      <td>2</td>\n",
       "      <td>...</td>\n",
       "      <td>2</td>\n",
       "      <td>2</td>\n",
       "      <td>3</td>\n",
       "      <td>2</td>\n",
       "      <td>3</td>\n",
       "      <td>0</td>\n",
       "      <td>4</td>\n",
       "      <td>4</td>\n",
       "      <td>0</td>\n",
       "      <td>2</td>\n",
       "    </tr>\n",
       "  </tbody>\n",
       "</table>\n",
       "<p>99 rows × 101 columns</p>\n",
       "</div>"
      ],
      "text/plain": [
       "   User_ID  Ch_1  Ch_2  Ch_3  Ch_4  Ch_5  Ch_6  Ch_7  Ch_8  Ch_9  ...  Ch_91  \\\n",
       "0     Us_1     2     1     4     2     5     4     3     5     1  ...      4   \n",
       "1     Us_2     0     3     1     4     0     5     5     0     2  ...      4   \n",
       "2     Us_3     0     1     0     4     3     4     2     1     0  ...      2   \n",
       "3     Us_4     1     2     4     0     0     3     2     5     4  ...      3   \n",
       "4     Us_5     5     3     2     3     0     4     1     2     1  ...      5   \n",
       "..     ...   ...   ...   ...   ...   ...   ...   ...   ...   ...  ...    ...   \n",
       "94   Us_95     0     4     5     2     0     5     0     5     1  ...      0   \n",
       "95   Us_96     0     5     2     4     5     3     3     1     3  ...      2   \n",
       "96   Us_97     4     3     0     5     2     0     2     0     5  ...      0   \n",
       "97   Us_98     1     5     3     0     0     2     4     1     4  ...      4   \n",
       "98   Us_99     1     4     5     5     5     2     5     5     2  ...      2   \n",
       "\n",
       "    Ch_92  Ch_93  Ch_94  Ch_95  Ch_96  Ch_97  Ch_98  Ch_99  Ch_100  \n",
       "0       5      0      4      2      3      2      5      5       1  \n",
       "1       5      2      0      3      5      5      2      4       4  \n",
       "2       5      0      2      3      1      2      2      0       3  \n",
       "3       3      0      5      3      5      1      2      0       5  \n",
       "4       3      1      2      5      5      1      4      0       4  \n",
       "..    ...    ...    ...    ...    ...    ...    ...    ...     ...  \n",
       "94      3      1      0      4      1      5      4      0       4  \n",
       "95      0      2      2      1      1      2      4      2       0  \n",
       "96      0      1      4      2      2      3      4      1       0  \n",
       "97      0      0      3      0      2      3      5      5       5  \n",
       "98      2      3      2      3      0      4      4      0       2  \n",
       "\n",
       "[99 rows x 101 columns]"
      ]
     },
     "execution_count": 180,
     "metadata": {},
     "output_type": "execute_result"
    }
   ],
   "source": [
    "df_Challenges.copy()"
   ]
  },
  {
   "cell_type": "code",
   "execution_count": 187,
   "metadata": {},
   "outputs": [],
   "source": [
    "cv = CountVectorizer()"
   ]
  },
  {
   "cell_type": "code",
   "execution_count": 173,
   "metadata": {},
   "outputs": [],
   "source": [
    "min_max_scaler = preprocessing.MinMaxScaler()"
   ]
  },
  {
   "cell_type": "code",
   "execution_count": 174,
   "metadata": {},
   "outputs": [
    {
     "data": {
      "text/plain": [
       "MinMaxScaler()"
      ]
     },
     "execution_count": 174,
     "metadata": {},
     "output_type": "execute_result"
    }
   ],
   "source": [
    "min_max_scaler"
   ]
  },
  {
   "cell_type": "markdown",
   "metadata": {},
   "source": [
    "### Step 5 \n",
    "\n",
    "Aplicamos el algoritmo de similaridad (coseno del Ch:1_ Comparado con todos)"
   ]
  },
  {
   "cell_type": "code",
   "execution_count": null,
   "metadata": {},
   "outputs": [],
   "source": [
    "similar_to_Ch_1 = df_Challenges.corrwith(Ch_1_User_ID_values)"
   ]
  },
  {
   "cell_type": "code",
   "execution_count": 178,
   "metadata": {},
   "outputs": [
    {
     "data": {
      "text/plain": [
       "Ch_1      1.000000\n",
       "Ch_2     -0.226801\n",
       "Ch_3      0.009622\n",
       "Ch_4     -0.012192\n",
       "Ch_5      0.001038\n",
       "            ...   \n",
       "Ch_96    -0.031651\n",
       "Ch_97     0.011363\n",
       "Ch_98    -0.009664\n",
       "Ch_99    -0.202283\n",
       "Ch_100   -0.107103\n",
       "Length: 100, dtype: float64"
      ]
     },
     "execution_count": 178,
     "metadata": {},
     "output_type": "execute_result"
    }
   ],
   "source": [
    "similar_to_Ch_1"
   ]
  },
  {
   "cell_type": "code",
   "execution_count": 197,
   "metadata": {},
   "outputs": [
    {
     "name": "stdout",
     "output_type": "stream",
     "text": [
      "26\n"
     ]
    }
   ],
   "source": [
    "query_index = np.random.choice(df_Challenges.shape[1])\n",
    "print(query_index)"
   ]
  },
  {
   "cell_type": "markdown",
   "metadata": {},
   "source": [
    "    m8 = df_Challenges.copy.to_numpy()"
   ]
  }
 ],
 "metadata": {
  "kernelspec": {
   "display_name": "Python 3",
   "language": "python",
   "name": "python3"
  },
  "language_info": {
   "codemirror_mode": {
    "name": "ipython",
    "version": 3
   },
   "file_extension": ".py",
   "mimetype": "text/x-python",
   "name": "python",
   "nbconvert_exporter": "python",
   "pygments_lexer": "ipython3",
   "version": "3.8.3"
  }
 },
 "nbformat": 4,
 "nbformat_minor": 4
}
